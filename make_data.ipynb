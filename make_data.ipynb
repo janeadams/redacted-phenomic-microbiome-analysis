{
 "cells": [
  {
   "cell_type": "code",
   "execution_count": 1,
   "id": "3ba62f61",
   "metadata": {},
   "outputs": [],
   "source": [
    "import pandas as pd\n",
    "import numpy as np\n",
    "import string\n",
    "from lorem_text import lorem\n",
    "import random\n",
    "from random_word import RandomWords\n",
    "import os"
   ]
  },
  {
   "cell_type": "code",
   "execution_count": 2,
   "id": "a3393b8f",
   "metadata": {},
   "outputs": [],
   "source": [
    "for d in ['data','data/tree_splits']:\n",
    "    try:\n",
    "        os.mkdir(d)\n",
    "    except:\n",
    "        print(f'Directory \"{d}\" already exists')"
   ]
  },
  {
   "cell_type": "code",
   "execution_count": 3,
   "id": "0b862e30",
   "metadata": {},
   "outputs": [],
   "source": [
    "n_mice = 378\n",
    "n_bacteria = 56\n",
    "n_normal = 36\n",
    "n_binary = 20\n",
    "n_behaviors = 35"
   ]
  },
  {
   "cell_type": "code",
   "execution_count": 4,
   "id": "5f13a78d",
   "metadata": {},
   "outputs": [
    {
     "name": "stdout",
     "output_type": "stream",
     "text": [
      "Generated 182 synthetic words\n"
     ]
    }
   ],
   "source": [
    "t = list(set(lorem.words(n_bacteria*10).lower().replace(',','').replace('.','').replace('\\n',' ').split(' ')))\n",
    "if len(t)>n_bacteria:\n",
    "    print(f'Generated {len(t)} synthetic words')\n",
    "    genus_names = [f'g__{g}' for g in t]\n",
    "else:\n",
    "    print(f'Not enough synthetic words - t is {len(t)}')"
   ]
  },
  {
   "cell_type": "code",
   "execution_count": 5,
   "id": "81c57a3d",
   "metadata": {},
   "outputs": [],
   "source": [
    "r = RandomWords()\n",
    "behavior_names = []\n",
    "for b in range(0,n_behaviors):\n",
    "    prepend = ''.join(random.sample(list(string.ascii_uppercase),3))\n",
    "    behavior_names.append(f'{prepend}_{r.get_random_word().title()}')"
   ]
  },
  {
   "cell_type": "code",
   "execution_count": 6,
   "id": "b1d0db17",
   "metadata": {},
   "outputs": [],
   "source": [
    "behaviors = pd.DataFrame(columns=behavior_names)"
   ]
  },
  {
   "cell_type": "code",
   "execution_count": 7,
   "id": "4c760762",
   "metadata": {},
   "outputs": [],
   "source": [
    "genus = pd.DataFrame(columns=genus_names[:n_bacteria])"
   ]
  },
  {
   "cell_type": "code",
   "execution_count": 8,
   "id": "1a0d7737",
   "metadata": {},
   "outputs": [],
   "source": [
    "for b in behaviors.columns:\n",
    "    behaviors[b] = np.random.normal(-2, 2, n_mice)"
   ]
  },
  {
   "cell_type": "code",
   "execution_count": 9,
   "id": "d2a58a65",
   "metadata": {},
   "outputs": [],
   "source": [
    "%%capture\n",
    "for g_norm in genus_names[:n_normal]:\n",
    "    genus[g_norm] = list(np.random.normal(-2, 2, n_mice))\n",
    "for g_bin in genus_names[n_normal:]:\n",
    "    genus[g_bin] = list(np.random.chisquare(1, n_mice))"
   ]
  },
  {
   "cell_type": "code",
   "execution_count": 10,
   "id": "10ad6c55",
   "metadata": {},
   "outputs": [],
   "source": [
    "behaviors.to_csv('data/behaviors.csv', index=False)\n",
    "genus.to_csv('data/genus.csv', index=False)"
   ]
  },
  {
   "cell_type": "code",
   "execution_count": 19,
   "id": "16ed327e",
   "metadata": {},
   "outputs": [],
   "source": [
    "tree_splits = pd.DataFrame(columns=['source','target','split','split_value','nobs','behavior'])\n",
    "summary = tree_splits.copy()\n",
    "for b in behavior_names:\n",
    "    tree = tree_splits.copy()\n",
    "    n = random.choice(range(5,7))\n",
    "    tree['source'] = pd.Series(random.sample(genus_names,n))\n",
    "    tree['target'] = pd.Series(random.sample(genus_names,n))\n",
    "    tree['split'] = pd.Series(random.choices(['<','>'],k=n))\n",
    "    tree['split_value'] = pd.Series(np.random.normal(-2, 2, n))\n",
    "    tree['nobs'] = pd.Series(random.sample(range(1,n_mice),n))\n",
    "    tree['behavior'] = [b]*n\n",
    "    tree = tree[tree['source']!=tree['target']]\n",
    "    tree.to_csv(f'data/tree_splits/{b}.csv', index=False)\n",
    "    summary = pd.concat([summary,tree])"
   ]
  },
  {
   "cell_type": "code",
   "execution_count": 20,
   "id": "c6899890",
   "metadata": {},
   "outputs": [],
   "source": [
    "summary.to_csv('data/summary_tree.csv')"
   ]
  },
  {
   "cell_type": "code",
   "execution_count": null,
   "id": "b4700209",
   "metadata": {},
   "outputs": [],
   "source": []
  }
 ],
 "metadata": {
  "kernelspec": {
   "display_name": "Python 3 (ipykernel)",
   "language": "python",
   "name": "python3"
  },
  "language_info": {
   "codemirror_mode": {
    "name": "ipython",
    "version": 3
   },
   "file_extension": ".py",
   "mimetype": "text/x-python",
   "name": "python",
   "nbconvert_exporter": "python",
   "pygments_lexer": "ipython3",
   "version": "3.9.12"
  }
 },
 "nbformat": 4,
 "nbformat_minor": 5
}
