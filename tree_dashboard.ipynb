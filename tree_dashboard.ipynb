{
 "cells": [
  {
   "cell_type": "code",
   "execution_count": null,
   "id": "acd00efa",
   "metadata": {},
   "outputs": [],
   "source": [
    "import pandas as pd\n",
    "import networkx as nx\n",
    "import plotly.express as px\n",
    "import plotly.graph_objects as go\n",
    "import dash_bio as dashbio\n",
    "from jupyter_dash import JupyterDash\n",
    "from dash import Dash, dash_table, html, dcc, Input, Output\n",
    "import dash_daq as daq\n",
    "import random"
   ]
  },
  {
   "cell_type": "code",
   "execution_count": null,
   "id": "b7d4637b",
   "metadata": {},
   "outputs": [],
   "source": [
    "df = pd.read_csv('data/summary_tree.csv')"
   ]
  },
  {
   "cell_type": "code",
   "execution_count": null,
   "id": "2f2d63a3",
   "metadata": {},
   "outputs": [],
   "source": [
    "df['test'] = df['behavior']"
   ]
  },
  {
   "cell_type": "code",
   "execution_count": null,
   "id": "b3e67472",
   "metadata": {},
   "outputs": [],
   "source": [
    "behavior_list = list(set(df['behavior']))\n",
    "genus = pd.read_csv('data/genus.csv')"
   ]
  },
  {
   "cell_type": "code",
   "execution_count": null,
   "id": "12371be1",
   "metadata": {},
   "outputs": [],
   "source": [
    "def simplify_behavior_label(label):\n",
    "    return label.replace('_batch_ranknorm','').replace('_',' ')"
   ]
  },
  {
   "cell_type": "code",
   "execution_count": null,
   "id": "cab48a12",
   "metadata": {},
   "outputs": [],
   "source": [
    "def format_labels(label_list):\n",
    "    simplified = [simplify_behavior_label(label) for label in label_list]\n",
    "    return ('<br>').join(simplified)"
   ]
  },
  {
   "cell_type": "code",
   "execution_count": null,
   "id": "ebfaca10",
   "metadata": {},
   "outputs": [],
   "source": [
    "def behavior_split(behavior):\n",
    "    subset = df[df['behavior']==behavior]\n",
    "    #subset['depth'] = subset['depth'].astype(str)\n",
    "    fig = px.bar(subset,\n",
    "           x='split_value',\n",
    "           y='nobs',\n",
    "           #color='target',\n",
    "           color='depth',\n",
    "           pattern_shape=\"split\",\n",
    "           pattern_shape_map={\n",
    "             \"<\": \"/\", \">\": \"\\\\\", \">=\": \"\\\\\", \"<=\":\"/\"\n",
    "           },\n",
    "           template='plotly_white',\n",
    "           title=f'Splits for {simplify_behavior_label(behavior)}',\n",
    "           hover_data=list(subset.columns),\n",
    "           text=\"target\"\n",
    "          )\n",
    "    fig.update_xaxes(title='Split Value')\n",
    "    fig.update_yaxes(title='Number of Observations')\n",
    "    fig.update_traces(textfont_size=12, textangle=0, textposition=\"outside\", cliponaxis=False)\n",
    "    return fig"
   ]
  },
  {
   "cell_type": "code",
   "execution_count": null,
   "id": "ba023475",
   "metadata": {},
   "outputs": [],
   "source": [
    "def improve_text_position(x):\n",
    "    positions = ['top center','top center', 'bottom center', 'bottom center']  # you can add more: left center ...\n",
    "    return [positions[i % len(positions)] for i in range(len(x))]"
   ]
  },
  {
   "cell_type": "code",
   "execution_count": null,
   "id": "d5066ad2",
   "metadata": {},
   "outputs": [],
   "source": [
    "def behavior_split_scatter(behavior):\n",
    "    subset = df[df['behavior']==behavior].sort_values(by='split_value')\n",
    "    #subset['depth'] = subset['depth'].astype(str)\n",
    "    fig = px.scatter(subset,\n",
    "           x='split_value',\n",
    "           y='depth',\n",
    "           size='nobs',\n",
    "           template='plotly_white',\n",
    "           color='split',\n",
    "           title=f'Splits for {simplify_behavior_label(behavior)}',\n",
    "           hover_data=['source','target','split_value','split','nobs'],\n",
    "           #text=\"target\"\n",
    "          )\n",
    "    fig.update_xaxes(title='Split Value')\n",
    "    fig.update_yaxes(title='Depth', autorange=\"reversed\")\n",
    "    fig.update_traces(textfont_size=12, cliponaxis=False, textposition=improve_text_position(df['split_value']))\n",
    "    return fig"
   ]
  },
  {
   "cell_type": "code",
   "execution_count": null,
   "id": "eaef7401",
   "metadata": {},
   "outputs": [],
   "source": [
    "behavior_split_scatter(behavior_list[10])"
   ]
  },
  {
   "cell_type": "code",
   "execution_count": null,
   "id": "871ec4e0",
   "metadata": {},
   "outputs": [],
   "source": [
    "def get_behaviors(source, target):\n",
    "    behaviors = list(set(df[(df['source']==source) & (df['target']==target)]['behavior']))\n",
    "    return behaviors"
   ]
  },
  {
   "cell_type": "code",
   "execution_count": null,
   "id": "0883cdd2",
   "metadata": {},
   "outputs": [],
   "source": [
    "df['behavior_label'] = [simplify_behavior_label(label) for label in df['behavior']]"
   ]
  },
  {
   "cell_type": "code",
   "execution_count": null,
   "id": "c002c69c",
   "metadata": {},
   "outputs": [],
   "source": [
    "meanDF = df.groupby(['source','target']).mean()\n",
    "meanDF.columns=[c+'_computed_mean' for c in meanDF.columns]\n",
    "sumDF = df.groupby(['source','target']).sum()\n",
    "sumDF.columns=[c+'_computed_sum' for c in sumDF.columns]\n",
    "summary = pd.merge(meanDF, sumDF, on=['source','target']).reset_index()"
   ]
  },
  {
   "cell_type": "code",
   "execution_count": null,
   "id": "69b03bfd",
   "metadata": {},
   "outputs": [],
   "source": [
    "summary['behaviors'] = [get_behaviors(source, target) for source, target in zip(summary['source'],summary['target'])]\n",
    "summary['behavior_label'] = [format_labels(behavior_list) for behavior_list in summary['behaviors']]\n",
    "summary['num_trees_present'] = [len(b) for b in summary['behaviors']]"
   ]
  },
  {
   "cell_type": "code",
   "execution_count": null,
   "id": "fabe8431",
   "metadata": {},
   "outputs": [],
   "source": [
    "def dendrogram(df,col,ascending=False):\n",
    "    # e.g. dendrogram(summary,'depth_mean', maxNA=True)\n",
    "    filtered = df.filter(items=['source','target',col]).sort_values(by=col, ascending=ascending)\n",
    "    matrix = filtered.pivot('source', 'target', col)\n",
    "    #matrix.columns = matrix.columns.get_level_values(level=1)\n",
    "    matrix.shape\n",
    "    filled = matrix.fillna((max(df[col])+1) if ascending else (min(df[col])-1))\n",
    "    columns = list(filled.columns.values)\n",
    "    rows = list(filled.index)\n",
    "\n",
    "    fig = dashbio.Clustergram( # https://dash.plotly.com/dash-bio/clustergram\n",
    "        data=abs(filled.loc[rows].values),\n",
    "        row_labels=rows,\n",
    "        column_labels=columns,\n",
    "        color_map='blues_r' if ascending else 'blues',\n",
    "        optimal_leaf_order=True,\n",
    "    )\n",
    "    fig.update_layout(\n",
    "        width=800,\n",
    "        height=800,\n",
    "        title=f\"<b>Comparison of Microbe Pairs<br>by {col.replace('_',' ').title()}</b>\"\n",
    "    )\n",
    "    return fig"
   ]
  },
  {
   "cell_type": "code",
   "execution_count": null,
   "id": "38a51eeb",
   "metadata": {},
   "outputs": [],
   "source": [
    "px.strip(df, y='nobs', color='test')"
   ]
  },
  {
   "cell_type": "code",
   "execution_count": null,
   "id": "b8407218",
   "metadata": {},
   "outputs": [],
   "source": [
    "def targets(df,col,bio,ascending=False):\n",
    "    filtered = df[df['source']==bio].sort_values(by=col, ascending=True)\n",
    "    fig = px.scatter(filtered,\n",
    "                     x='target',\n",
    "                     y=col,\n",
    "                     title=f\"<b>Top targets for {bio}<br>by {col.replace('_',' ').title()}</b>\",\n",
    "                     color=col,\n",
    "                     color_continuous_scale='viridis' if ascending else 'viridis_r',\n",
    "                     size='nobs_computed_mean',\n",
    "                     hover_data=['behavior_label']\n",
    "                    )\n",
    "    fig.update_layout(\n",
    "        template='plotly_white',\n",
    "        title_font_size=20,\n",
    "        title_font_color=\"#666\"\n",
    "    )\n",
    "    fig.update_yaxes(title=col.replace('_',' ').title())\n",
    "    fig.update_xaxes(title='Target Bacteria')\n",
    "    if ascending==True:\n",
    "        fig.update_yaxes(autorange=\"reversed\")\n",
    "        fig.update_xaxes(autorange=\"reversed\")\n",
    "    return fig"
   ]
  },
  {
   "cell_type": "code",
   "execution_count": null,
   "id": "75697d3c",
   "metadata": {
    "scrolled": false
   },
   "outputs": [],
   "source": [
    "targets(summary,'depth_computed_mean',random.choice(genus.columns), ascending=True).show()"
   ]
  },
  {
   "cell_type": "code",
   "execution_count": null,
   "id": "42cd8d56",
   "metadata": {},
   "outputs": [],
   "source": [
    "def behaviors(col,bio,ascending=False):\n",
    "    if col == 'num_trees_present':\n",
    "        col='nobs_computed_mean'\n",
    "    stat_simple = col.replace('_computed_mean','').replace('_computed_sum','')\n",
    "    filtered = df[df['source']==bio].sort_values(by=stat_simple, ascending=ascending)\n",
    "    fig = px.scatter(filtered,\n",
    "                     x=stat_simple,\n",
    "                     y='behavior_label',\n",
    "                     title=f\"<b>Top behaviors for {bio}<br>by {col.replace('_',' ').title()}</b>\",\n",
    "                     color=stat_simple,\n",
    "                     size=stat_simple if min(df[stat_simple])>0 else 'nobs',\n",
    "                     hover_data=list(filtered.columns),\n",
    "                     color_continuous_scale='viridis' if ascending else 'viridis_r',\n",
    "                     symbol='test'\n",
    "                    )\n",
    "    fig.update_layout(\n",
    "        template='plotly_white',\n",
    "        title_font_size=20,\n",
    "        title_font_color=\"#666\"\n",
    "    )\n",
    "    fig.update_yaxes(title='Behavior')\n",
    "    fig.update_xaxes(title=stat_simple.title())\n",
    "    if ascending==True:\n",
    "        fig.update_yaxes(autorange=\"reversed\", title='Behavior')\n",
    "        fig.update_xaxes(autorange=\"reversed\", title=stat_simple.title())\n",
    "    return fig"
   ]
  },
  {
   "cell_type": "code",
   "execution_count": null,
   "id": "07177bb0",
   "metadata": {},
   "outputs": [],
   "source": [
    "stats = [\n",
    "    'num_trees_present',\n",
    "    'depth_computed_sum',\n",
    "    'nobs_computed_sum',\n",
    "    'pvalue_computed_mean',\n",
    "    'split_value_computed_mean',\n",
    "    'y_mean_computed_mean',\n",
    "    'error_computed_mean',\n",
    "    'nobs_computed_mean',\n",
    "    'depth_computed_mean',\n",
    "    'split_value_computed_sum',\n",
    "    #'y_mean_computed_sum',\n",
    "    'error_computed_sum',\n",
    "    'pvalue_computed_sum',\n",
    "    #'behaviors',\n",
    "    #'behavior_label',\n",
    "]"
   ]
  },
  {
   "cell_type": "code",
   "execution_count": null,
   "id": "c8c97d19",
   "metadata": {},
   "outputs": [],
   "source": [
    "# https://medium.com/plotly/introducing-jupyterdash-811f1f57c02e\n",
    "\n",
    "#stats = list(summary.columns[2:])\n",
    "bios = list(set(summary['source']))\n",
    "\n",
    "app = JupyterDash(__name__)\n",
    "\n",
    "app.layout = html.Div([\n",
    "    html.Div([\n",
    "        html.H1('Compare microbes'),\n",
    "        html.P('Select a statistic from the dropdown below to view information summarized \\\n",
    "        across all regression trees. Particularly interesting statistics are: {depth} the average \\\n",
    "        depth of tree splits involving this microbe (lower values mean closer to the top); {nobs} which \\\n",
    "        stands for \"number of observations\"; {num trees present} the number of regression trees in which \\\n",
    "        this microbe appears.'),\n",
    "        dcc.Dropdown(stats, 'num_trees_present', id='stat-dropdown'),\n",
    "        html.P('This dendrogram shows a comparison of one bacteria versus another\\\n",
    "               along whatever variable you have selected from the dropdown above, across *all* regression trees. \\\n",
    "               Hover over a cell to view the source and target. If you want to see \\\n",
    "               a sorted list of all the edges from highest to lowest, scroll to the table below.'),\n",
    "        dcc.Graph(id='dendrogram'),\n",
    "        #daq.BooleanSwitch(id='ascending-toggle', on=False,\n",
    "              #label=\"Ascending?\",labelPosition=\"top\"),\n",
    "        html.P('This table shows the same information as the dendrogram above (highlighted in yellow); \\\n",
    "                you can scroll right to see more detail about each edge. These values are summarized \\\n",
    "                from *all* of the regression trees.'),\n",
    "        html.Div(id='table-container'),   \n",
    "    ], style={'width': '45%', 'display': 'inline-block', 'float':'left'}),\n",
    "    html.Div([\n",
    "        html.H1('Explore a microbe'),\n",
    "        html.P('Once you have found a bacteria of interest from the dendrogram and table on the left, \\\n",
    "                you can select it from the dropdown below to view more information about the trees \\\n",
    "                that include your chosen bacteria. The chart below will display summary information \\\n",
    "                about the other microbes identified as relevant using the regression trees. Nodes are sized \\\n",
    "                by the total number of observations between each bacteria pair. Hover over \\\n",
    "                a point in the chart to view more information about the relevant tree.'),\n",
    "        dcc.Dropdown(bios, random.choice(genus.columns), id='bio-dropdown'),\n",
    "        dcc.Graph(id='targets'),\n",
    "        html.P('Similar to the chart above, the chart below displays relevant information about the specific \\\n",
    "            bacteria you have selected above; in this case, we see the particular behaviors for which this \\\n",
    "            bacteria existed in the regression tree. Nodes are sized by the selected statistic, if possible \\\n",
    "            or the number of implicated observations, if the selected statistic has a range that includes \\\n",
    "            negative values. Nodes are colored by the selected statistic also. You can change the selected \\\n",
    "            statistic using the uppermost dropdown.'),\n",
    "        html.H1('Explore a behavior'),\n",
    "        dcc.Graph(id='behaviors'),\n",
    "        html.P('From the chart above, there may be a behavior that you are interested in viewing tree splits for. \\\n",
    "        From the dropdown below, you can select a behavior of interest, and see a bar chart below of all the \\\n",
    "        tree splits for that behavior of interest. Bar x-location corresponds to the split value, while the bar \\\n",
    "        y-height corresponds to the number of observations. Color corresponds to tree depth (with darker values) \\\n",
    "        meaning a higher (earlier) split in the tree, and lighter values being further down the tree. A pattern \\\n",
    "        to the left (\"/\") indicates a \"less than\" split, while a pattern to the right (\"\\\\\") indicates a \\\n",
    "        \"greater than\" split.'),\n",
    "        dcc.Dropdown(behavior_list, behavior_list[0], id='behavior-dropdown'),\n",
    "        dcc.Graph(id='split_chart'),\n",
    "        dcc.Graph(id='split_scatter')\n",
    "    ], style={'width': '45%', 'display': 'inline-block', 'float':'right'})\n",
    "             \n",
    "], style={'marginBottom': 50, 'marginTop': 25, 'marginLeft': 50, 'marginRight':50})\n",
    "\n",
    "@app.callback(\n",
    "    [Output(component_id='table-container', component_property='children'),\n",
    "    Output(component_id='dendrogram', component_property='figure'),\n",
    "    Output(component_id='targets', component_property='figure'),\n",
    "     Output(component_id='behaviors', component_property='figure'),\n",
    "     Output(component_id='split_chart', component_property='figure'),\n",
    "     Output(component_id='split_scatter', component_property='figure')\n",
    "    ],\n",
    "    [Input(component_id='stat-dropdown', component_property='value'),\n",
    "     #Input(component_id='ascending-toggle', component_property='on'),\n",
    "     Input(component_id='bio-dropdown', component_property='value'),\n",
    "     Input(component_id='behavior-dropdown', component_property='value')\n",
    "    ]\n",
    ")\n",
    "def update_outputs(stat, bio, behavior):\n",
    "    if ('depth' in stat) or ('pvalue' in stat) or ('y_mean' in stat):\n",
    "        ascending=True\n",
    "    else:\n",
    "        ascending=False\n",
    "    sortedDF = summary.sort_values(by=stat, ascending=ascending)\n",
    "    newcols = list(sortedDF.columns)\n",
    "    newcols.remove(stat)\n",
    "    newcols.insert(0,stat)\n",
    "    sortedDF = sortedDF[newcols]\n",
    "    table = dash_table.DataTable(\n",
    "        data=sortedDF.astype(str).to_dict('records'), # data\n",
    "        sort_action='native',\n",
    "        columns = [{\"name\": i, \"id\": i} for i in list(sortedDF.columns)], # columns\n",
    "        id='table',\n",
    "        style_data={\n",
    "            'whiteSpace': 'normal',\n",
    "            'height': 'auto',\n",
    "        },\n",
    "        style_table={'overflowX': 'auto'},\n",
    "        style_data_conditional=[\n",
    "        {\n",
    "            'if': {\n",
    "                'column_id': stat,\n",
    "            },\n",
    "            'backgroundColor': 'yellow',\n",
    "            'color': 'black'\n",
    "        }]\n",
    "    )\n",
    "    t_chart = targets(sortedDF,stat,bio,ascending)\n",
    "    b_chart = behaviors(stat,bio,ascending)\n",
    "    \n",
    "    #behavior = list(summary[summary['source']==bio]['behaviors'])[0][0]\n",
    "    \n",
    "    split_chart = behavior_split(behavior)\n",
    "    split_scatter = behavior_split_scatter(behavior)\n",
    "    dend = dendrogram(sortedDF,stat,ascending)\n",
    "    return table, dend, t_chart, b_chart, split_chart, split_scatter\n",
    "\n",
    "app.run_server()#debug=False)"
   ]
  }
 ],
 "metadata": {
  "kernelspec": {
   "display_name": "Python 3 (ipykernel)",
   "language": "python",
   "name": "python3"
  },
  "language_info": {
   "codemirror_mode": {
    "name": "ipython",
    "version": 3
   },
   "file_extension": ".py",
   "mimetype": "text/x-python",
   "name": "python",
   "nbconvert_exporter": "python",
   "pygments_lexer": "ipython3",
   "version": "3.9.12"
  }
 },
 "nbformat": 4,
 "nbformat_minor": 5
}
